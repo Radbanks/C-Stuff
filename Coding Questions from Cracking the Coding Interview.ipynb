{
 "cells": [
  {
   "cell_type": "markdown",
   "metadata": {},
   "source": [
    "# MagicIndex "
   ]
  },
  {
   "cell_type": "markdown",
   "metadata": {},
   "source": [
    "A magic index in an array A[0... n-1] is defined to be an index such that A[i] = i. Given a sorted array of distinct integers, write a method to find a magic index, if one exists, in array A."
   ]
  },
  {
   "cell_type": "raw",
   "metadata": {},
   "source": [
    "input = {-40, -20, -1, 1, 2, 3, 5, 7, 9, 12, 13};\n",
    "output = 7; // as the index in position 7, is 7."
   ]
  },
  {
   "cell_type": "code",
   "execution_count": null,
   "metadata": {},
   "outputs": [],
   "source": [
    "int findMagicIndex( int[] A , int begin , int end )\n",
    "{\n",
    "    if( begin > end )  {   return -1;  }\n",
    "    \n",
    "    mid= (begin + end ) / 2 ; \n",
    "    \n",
    "    if( mid == A[mid] )  {  return mid; }\n",
    "    else if ( mid < A[mid] )\n",
    "    {\n",
    "        return findMagicIndex(A, begin, mid-1 );\n",
    "    }\n",
    "    else\n",
    "    {\n",
    "        return findMagicIndex(A,  mid+1 , end );\n",
    "    }\n",
    "}"
   ]
  },
  {
   "cell_type": "code",
   "execution_count": null,
   "metadata": {},
   "outputs": [],
   "source": []
  }
 ],
 "metadata": {
  "kernelspec": {
   "display_name": "Python 3",
   "language": "python",
   "name": "python3"
  },
  "language_info": {
   "codemirror_mode": {
    "name": "ipython",
    "version": 3
   },
   "file_extension": ".py",
   "mimetype": "text/x-python",
   "name": "python",
   "nbconvert_exporter": "python",
   "pygments_lexer": "ipython3",
   "version": "3.8.3"
  }
 },
 "nbformat": 4,
 "nbformat_minor": 4
}
